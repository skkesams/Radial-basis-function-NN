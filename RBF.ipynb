{
 "cells": [
  {
   "cell_type": "markdown",
   "metadata": {},
   "source": [
    "## RBF"
   ]
  },
  {
   "cell_type": "markdown",
   "metadata": {},
   "source": [
    "### 1) Carry out the design of RBF NN based on Gaussian kernel functions with constant spread function and using all the points in the training set as centers of the RB functions."
   ]
  },
  {
   "cell_type": "code",
   "execution_count": 1,
   "metadata": {},
   "outputs": [],
   "source": [
    "# Import the required libraries\n",
    "import numpy as np\n",
    "from scipy.linalg import norm, pinv\n",
    "from sklearn.cluster import KMeans\n",
    "import matplotlib.pyplot as plt\n",
    "import random"
   ]
  },
  {
   "cell_type": "code",
   "execution_count": 2,
   "metadata": {},
   "outputs": [],
   "source": [
    "# Create Dataset and split data into train(80%) and test(20%)\n",
    "data=[]\n",
    "for i in range(0,21):\n",
    "    for j in range(0,21):\n",
    "        x = -2 + 0.2*i\n",
    "        y = -2 + 0.2*j\n",
    "        if x **2 + y **2 <=1.0:\n",
    "            z=1\n",
    "        else:\n",
    "            z=-1\n",
    "        data.append([x,y,z])\n",
    "\n",
    "#Randomize the data\n",
    "data = random.choices(data,k=441)\n",
    "split_data =  [data[x:x+int((len(data)/100)*80)] for x in range(0, len(data), int((len(data)/100)*80))]\n",
    "\n",
    "#Train data(80%)\n",
    "train_x=[]\n",
    "train_y=[]\n",
    "for i in range(0,len(split_data[0])):\n",
    "    train_x.append([split_data[0][i][0],split_data[0][i][1]])\n",
    "    train_y.append(split_data[0][i][2])\n",
    "train_x=np.array(train_x)\n",
    "train_y= np.array(train_y)\n",
    "   \n",
    "#Test data(20%)\n",
    "test_x=[]\n",
    "test_y=[]\n",
    "for i in range(0,len(split_data[1])):\n",
    "    test_x.append([split_data[1][i][0],split_data[1][i][1]])\n",
    "    test_y.append(split_data[1][i][2])\n",
    "test_x=np.array(test_x)\n",
    "test_y= np.array(test_y)"
   ]
  },
  {
   "cell_type": "code",
   "execution_count": 3,
   "metadata": {},
   "outputs": [],
   "source": [
    "#Implemeting the gaussion function\n",
    "def gaussian_fun(train_x,centers,sigma):\n",
    "    gaussian_matrix=np.zeros((train_x.shape[0],centers.shape[0]),float)\n",
    "    for index_center, center in enumerate(centers):\n",
    "        for index_val, val in enumerate(train_x):\n",
    "            g=np.exp(-(norm(val-center)**2)/(2*(sigma **2)))\n",
    "            gaussian_matrix[index_val,index_center] = g            \n",
    "    return gaussian_matrix"
   ]
  },
  {
   "cell_type": "markdown",
   "metadata": {},
   "source": [
    " \n",
    " "
   ]
  },
  {
   "cell_type": "markdown",
   "metadata": {},
   "source": [
    " "
   ]
  },
  {
   "cell_type": "code",
   "execution_count": 4,
   "metadata": {},
   "outputs": [],
   "source": [
    "def weight(train_x,centers,sigma,train_y):\n",
    "    mat_array = gaussian_fun(train_x,centers,sigma)\n",
    "    w = np.dot(pinv(mat_array),train_y)\n",
    "    return w"
   ]
  },
  {
   "cell_type": "code",
   "execution_count": 5,
   "metadata": {},
   "outputs": [],
   "source": [
    "def output(test_x,centers,sigma,weight):\n",
    "    gaussion_matrix_test= gaussian_fun(test_x,centers,sigma)\n",
    "    out= np.dot(gaussion_matrix_test,weight)\n",
    "    return out"
   ]
  },
  {
   "cell_type": "code",
   "execution_count": 6,
   "metadata": {},
   "outputs": [
    {
     "name": "stdout",
     "output_type": "stream",
     "text": [
      "At sigma = 0.1  the Mean Square Error = 0.0449438202247191 and the accuracy =  98.87640449438202\n",
      "At sigma = 0.2  the Mean Square Error = 0.0449438202247191 and the accuracy =  98.87640449438202\n",
      "At sigma = 0.3  the Mean Square Error = 0.1797752808988764 and the accuracy =  95.50561797752809\n",
      "At sigma = 0.4  the Mean Square Error = 0.4943820224719101 and the accuracy =  87.64044943820225\n",
      "At sigma = 0.5  the Mean Square Error = 0.5842696629213483 and the accuracy =  85.39325842696628\n",
      "At sigma = 1  the Mean Square Error = 0.0449438202247191 and the accuracy =  98.87640449438202\n",
      "At sigma = 2  the Mean Square Error = 0.0 and the accuracy =  100.0\n",
      "At sigma = 3  the Mean Square Error = 0.0449438202247191 and the accuracy =  98.87640449438202\n",
      "At sigma = 4  the Mean Square Error = 0.0449438202247191 and the accuracy =  98.87640449438202\n",
      "At sigma = 5  the Mean Square Error = 0.0449438202247191 and the accuracy =  98.87640449438202\n",
      "At sigma = 10  the Mean Square Error = 0.0449438202247191 and the accuracy =  98.87640449438202\n",
      "At sigma = 15  the Mean Square Error = 0.1348314606741573 and the accuracy =  96.62921348314607\n",
      "At sigma = 20  the Mean Square Error = 0.1348314606741573 and the accuracy =  96.62921348314607\n",
      "At sigma = 25  the Mean Square Error = 0.1348314606741573 and the accuracy =  96.62921348314607\n"
     ]
    }
   ],
   "source": [
    "# Sigma range values \n",
    "sigma_list = [0.1,0.2,0.3,0.4,0.5,1,2,3,4,5,10,15,20,25]\n",
    "MSE = []\n",
    "accuracy = []\n",
    "for i in sigma_list:\n",
    "    #train the network with each sigma value\n",
    "    w = weight(train_x,train_x,i,train_y)\n",
    "    #test the network with each sigma value\n",
    "    y_pred = np.sign(output(test_x,train_x,i,w))\n",
    "    #Find Mean Square Error\n",
    "    MSE.append(np.square(test_y - y_pred).mean())\n",
    "    #Find Accuracy\n",
    "    accuracy.append(np.mean(test_y == y_pred))\n",
    "    print(\"At sigma =\",i,\" the Mean Square Error =\", MSE[-1], \"and the accuracy = \",accuracy[-1]*100)"
   ]
  },
  {
   "cell_type": "markdown",
   "metadata": {},
   "source": [
    " "
   ]
  },
  {
   "cell_type": "code",
   "execution_count": 7,
   "metadata": {},
   "outputs": [
    {
     "data": {
      "image/png": "[encoded data removed]",
      "text/plain": [
       "<Figure size 432x288 with 1 Axes>"
      ]
     },
     "metadata": {
      "needs_background": "light"
     },
     "output_type": "display_data"
    },
    {
     "data": {
      "image/png": "[encoded data removed]",
      "text/plain": [
       "<Figure size 432x288 with 1 Axes>"
      ]
     },
     "metadata": {
      "needs_background": "light"
     },
     "output_type": "display_data"
    }
   ],
   "source": [
    "#Plotting Graphs   \n",
    "plt.plot(sigma_list,MSE)\n",
    "plt.title(\"TESTING_MSE\")\n",
    "plt.show()\n",
    "plt.plot(sigma_list,accuracy)\n",
    "plt.title(\"TESTING_ACCURACY\")\n",
    "plt.show()"
   ]
  },
  {
   "cell_type": "markdown",
   "metadata": {},
   "source": [
    "Radial Based Function transforms lower dimensional space input data into high dimensional space so that it will be easier to classify. we are appling gaussion function for the non-linear transformation of the data. In the centers are determined using K-Means clustering and then the supervised method is applied in identifying weights.\n",
    "\n",
    "Intially we implemeted with all the input datapoints as centers(352). The sigma value specifies the width, Here we have tried with different sigma value in implementing the gaussion function. we got the accuracy of 100% with sigma=2. So we choose sigma of 2 in implementing the Random and K-means 150 centers. We plotted the graphs of Mean Square Error and Accuracy with different sigma values(speed). We find that The accuracies of most of the sigma values aroung 2 are 98.88%(~99%) and we got the same accuracy at sigma of 0.1 and 0.2. However in multiple runs the accuracy at lower sigma values is not consistent. \n",
    "\n",
    "In particular executions we found that at higher sigma values (>15) the accuracies are better when compared to the sigma values between 0 and 1(<1). In multiple excetuions they are not consistant which may leads to loss of information with the radial function ranges away from the original range and the accuracy is getting saturated.  \n",
    "\n",
    "We implemet the next part with the optimal with of 2(sigma)."
   ]
  },
  {
   "cell_type": "markdown",
   "metadata": {},
   "source": [
    " "
   ]
  },
  {
   "cell_type": "markdown",
   "metadata": {},
   "source": [
    "### 2) a. Taking 150 Random Centers"
   ]
  },
  {
   "cell_type": "code",
   "execution_count": 14,
   "metadata": {},
   "outputs": [],
   "source": [
    "#getting random centers\n",
    "random_indices = np.random.choice(train_x.shape[0], size=150, replace=False)\n",
    "Random_centers = train_x[random_indices,:]\n",
    "best_sigma = 2"
   ]
  },
  {
   "cell_type": "code",
   "execution_count": 15,
   "metadata": {},
   "outputs": [],
   "source": [
    "# For testing kindly change the sigma value for w_150 and y_value_150\n",
    "weight_R150 = weight(train_x,Random_centers,best_sigma,train_y)\n",
    "y_pred_R150 = np.sign(output(test_x,Random_centers,best_sigma,weight_R150))\n",
    "MSE_R150= np.square(test_y - y_pred_R150).mean()\n",
    "accuracy_R150 = np.mean(test_y == y_pred_R150)"
   ]
  },
  {
   "cell_type": "code",
   "execution_count": 16,
   "metadata": {},
   "outputs": [
    {
     "name": "stdout",
     "output_type": "stream",
     "text": [
      "The Mean Square Error for taking 150 random centers with sigma = 2  is  0.0\n",
      "The Accuracy for taking 150 random centers with sigma = 2  is  100.0\n"
     ]
    }
   ],
   "source": [
    "print(\"The Mean Square Error for taking 150 random centers with sigma =\",best_sigma,\" is \",MSE_R150)\n",
    "print(\"The Accuracy for taking 150 random centers with sigma =\",best_sigma,\" is \",accuracy_R150*100)"
   ]
  },
  {
   "cell_type": "markdown",
   "metadata": {},
   "source": [
    "### 2) b. K-Means algorithm to find the 150 centers."
   ]
  },
  {
   "cell_type": "code",
   "execution_count": 17,
   "metadata": {},
   "outputs": [],
   "source": [
    "kmeans = KMeans(n_clusters=150)\n",
    "y_kmeans=kmeans.fit(train_x)\n",
    "kmean_center=kmeans.cluster_centers_"
   ]
  },
  {
   "cell_type": "code",
   "execution_count": 18,
   "metadata": {},
   "outputs": [],
   "source": [
    "# For testing kindly change the sigma value for w_k_150 and y_value_k_150\n",
    "weight_K150= weight(train_x,kmean_center,best_sigma,train_y) \n",
    "y_pred_K150= np.sign(output(test_x,kmean_center,best_sigma,weight_K150))\n",
    "MSE_K150= np.square(test_y - y_pred_K150).mean()\n",
    "accuracy_K150 = np.mean(test_y == y_pred_K150)"
   ]
  },
  {
   "cell_type": "code",
   "execution_count": 19,
   "metadata": {},
   "outputs": [
    {
     "name": "stdout",
     "output_type": "stream",
     "text": [
      "The Mean Square Error for taking 150 kmean centers with sigma = 2  is  0.0\n",
      "The Accuracy for taking 150 kmean centers with sigma = 2 is  100.0\n"
     ]
    }
   ],
   "source": [
    "print(\"The Mean Square Error for taking 150 kmean centers with sigma =\",best_sigma,\" is \",MSE_K150)\n",
    "print(\"The Accuracy for taking 150 kmean centers with sigma =\",best_sigma,\"is \",accuracy_K150*100)"
   ]
  },
  {
   "cell_type": "markdown",
   "metadata": {},
   "source": [
    "#### Result\n",
    "The above result shows that the random intilization and K-means clustering of 150 centers from the entire 352 training data points. Sometimes the performace is better when compared to K_means and sometimes K-means performs better. But in this run the performance is same with K-means of 100% accuracy in both the casses.\n",
    "\n",
    "The accuray with 150 centers(in random selection and by K-mens cluster centers) the accurracy is 100% same when compared with the accuracy at 352 center poins in part-1, However sometimes the accuracy is dropping with reducing the number of centers. For optimal performace the hidden layer (i.e) the number of non linear transformation used should be equal to the input data.\n",
    "\n",
    "The main intution behind RBF is transforming low dimensional data to high dimensional space for better linear seperability. In general, if all the inputs are used as the cluster centers the seperability of the data in high. This helps in interpolation of the network."
   ]
  },
  {
   "cell_type": "code",
   "execution_count": null,
   "metadata": {},
   "outputs": [],
   "source": []
  }
 ],
 "metadata": {
  "kernelspec": {
   "display_name": "Python 3",
   "language": "python",
   "name": "python3"
  },
  "language_info": {
   "codemirror_mode": {
    "name": "ipython",
    "version": 3
   },
   "file_extension": ".py",
   "mimetype": "text/x-python",
   "name": "python",
   "nbconvert_exporter": "python",
   "pygments_lexer": "ipython3",
   "version": "3.8.5"
  }
 },
 "nbformat": 4,
 "nbformat_minor": 4
}
